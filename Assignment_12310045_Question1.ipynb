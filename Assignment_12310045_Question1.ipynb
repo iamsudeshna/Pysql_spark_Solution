{
 "cells": [
  {
   "cell_type": "code",
   "execution_count": null,
   "metadata": {
    "application/vnd.databricks.v1+cell": {
     "cellMetadata": {
      "byteLimit": 2048000,
      "rowLimit": 10000
     },
     "inputWidgets": {},
     "nuid": "6bf2aadd-4f60-4004-9d59-e0708636308f",
     "showTitle": false,
     "title": ""
    }
   },
   "outputs": [],
   "source": [
    "!pip install findspark"
   ]
  },
  {
   "cell_type": "code",
   "execution_count": null,
   "metadata": {},
   "outputs": [],
   "source": [
    "import sys\n",
    "import pyspark\n",
    "from pyspark.sql import SparkSession\n",
    "from pyspark import SparkConf, SparkContext\n",
    "import findspark\n",
    "import os"
   ]
  },
  {
   "cell_type": "code",
   "execution_count": null,
   "metadata": {
    "application/vnd.databricks.v1+cell": {
     "cellMetadata": {
      "byteLimit": 2048000,
      "rowLimit": 10000
     },
     "inputWidgets": {},
     "nuid": "06a32169-8ae6-434e-8833-abed1708fa54",
     "showTitle": false,
     "title": ""
    }
   },
   "outputs": [],
   "source": [
    "os.environ[\"JAVA_HOME\"]=\"C:/Program Files/Java/jdk-11\"\n",
    "os.environ[\"SPARK_HOME\"]=\"C:/Users/l026995/Downloads/spark-3.5.0-bin-hadoop3\"\n",
    "findspark.init()\n",
    "spark = SparkSession.builder.appName('Assign_BDM').getOrCreate()\n",
    "spark"
   ]
  },
  {
   "cell_type": "code",
   "execution_count": null,
   "metadata": {
    "application/vnd.databricks.v1+cell": {
     "cellMetadata": {
      "byteLimit": 2048000,
      "rowLimit": 10000
     },
     "inputWidgets": {},
     "nuid": "b3969e62-e974-43d8-a300-3b2b4b767abf",
     "showTitle": false,
     "title": ""
    }
   },
   "outputs": [],
   "source": [
    "from pyspark.sql.functions import col\n",
    "path_1 = './users.csv'\n",
    "path_2 = './transactions.csv'\n",
    "df1 = spark.read.csv(path_1)\n",
    "df1 = spark.read.option(\"header\",\"true\").csv(path_1)\n",
    "df1.show()"
   ]
  },
  {
   "cell_type": "code",
   "execution_count": null,
   "metadata": {
    "application/vnd.databricks.v1+cell": {
     "cellMetadata": {
      "byteLimit": 2048000,
      "rowLimit": 10000
     },
     "inputWidgets": {},
     "nuid": "98eaf5d3-7833-4734-8466-b8e7f34c6c47",
     "showTitle": false,
     "title": ""
    }
   },
   "outputs": [],
   "source": [
    "df2 = spark.read.csv(path_2)\n",
    "df2 = spark.read.option(\"header\",\"true\").csv(path_2)\n",
    "df2.show()"
   ]
  },
  {
   "cell_type": "code",
   "execution_count": null,
   "metadata": {},
   "outputs": [],
   "source": [
    "df1.createTempView(\"user\")\n",
    "df2.createTempView(\"transaction\")"
   ]
  },
  {
   "cell_type": "code",
   "execution_count": null,
   "metadata": {
    "application/vnd.databricks.v1+cell": {
     "cellMetadata": {},
     "inputWidgets": {},
     "nuid": "ca18e093-ca91-4299-8dc9-6f656c797423",
     "showTitle": false,
     "title": ""
    }
   },
   "outputs": [],
   "source": [
    "#Count of unique locations where each product is sold. \n",
    "results1 = spark.sql(\"SELECT COUNT(DISTINCT Location) AS Unique_Location, t.Product_Id FROM user u INNER JOIN transaction t ON u.User_Id=t.User_Id WHERE t.Transaction_Id IS NOT NULL GROUP BY t.Product_Id\")\n",
    "results1.show()"
   ]
  },
  {
   "cell_type": "code",
   "execution_count": null,
   "metadata": {},
   "outputs": [],
   "source": [
    "#Find out the Products bought by each user\n",
    "results2 = spark.sql(\"SELECT ARRAY_JOIN(COLLECT_LIST(DISTINCT Product_Desc), ', ') AS Products, CAST(User_Id AS Numeric) FROM transaction WHERE Transaction_Id IS NOT NULL GROUP BY User_Id ORDER BY User_Id\")\n",
    "results2.show()"
   ]
  },
  {
   "cell_type": "code",
   "execution_count": null,
   "metadata": {},
   "outputs": [],
   "source": [
    "#Total spending done by each User on each Product.\n",
    "results3 = spark.sql(\"SELECT SUM(Price) AS Spending, CAST(User_Id AS Numeric) FROM transaction WHERE Transaction_Id IS NOT NULL GROUP BY User_Id ORDER BY User_Id\")\n",
    "results3.show()"
   ]
  }
 ],
 "metadata": {
  "application/vnd.databricks.v1+notebook": {
   "dashboards": [],
   "language": "python",
   "notebookMetadata": {
    "pythonIndentUnit": 4
   },
   "notebookName": "Assign_BDM",
   "widgets": {}
  },
  "kernelspec": {
   "display_name": "Python 3 (ipykernel)",
   "language": "python",
   "name": "python3"
  },
  "language_info": {
   "codemirror_mode": {
    "name": "ipython",
    "version": 3
   },
   "file_extension": ".py",
   "mimetype": "text/x-python",
   "name": "python",
   "nbconvert_exporter": "python",
   "pygments_lexer": "ipython3",
   "version": "3.10.9"
  }
 },
 "nbformat": 4,
 "nbformat_minor": 1
}
